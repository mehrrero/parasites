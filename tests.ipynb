{
 "cells": [
  {
   "cell_type": "code",
   "execution_count": 1,
   "id": "a90ef27a",
   "metadata": {},
   "outputs": [],
   "source": [
    "import geopandas as gpd\n",
    "import pandas as pd\n",
    "from shapely.geometry import Point\n",
    "from utils.utils import count_houses, plot_ratio_map\n",
    "import osmnx as ox\n",
    "from catastro.atom import ATOM_Query\n",
    "import os\n",
    "import json\n",
    "from data_processing.data_preprocessing import city"
   ]
  },
  {
   "cell_type": "code",
   "execution_count": 2,
   "id": "23f31968",
   "metadata": {},
   "outputs": [],
   "source": [
    "bcn = city(\"barcelona\",\"Barcelona\",\"Barcelona, Catalonia, Spain\", \"2025-06-12\")"
   ]
  },
  {
   "cell_type": "code",
   "execution_count": 3,
   "id": "0acc34e0",
   "metadata": {},
   "outputs": [
    {
     "name": "stdout",
     "output_type": "stream",
     "text": [
      "Collecting features for municipalities containing 'Barcelona' in 'barcelona'\n",
      "Downloaded parcels for barcelona in Barcelona.\n",
      "Downloading Airbnb data...\n",
      "Decompressing data...\n",
      "Decompressed Airbnb data to data/cache/barcelona/listings.csv\n",
      "Downloading censal sections data...\n",
      "Computed ratios for flats and rooms in the city.\n"
     ]
    }
   ],
   "source": [
    "bcn.get_results('data/results/barcelona.geojson')"
   ]
  },
  {
   "cell_type": "code",
   "execution_count": 4,
   "id": "f93fafa3",
   "metadata": {},
   "outputs": [
    {
     "name": "stdout",
     "output_type": "stream",
     "text": [
      "Downloaded street network for barcelona.\n"
     ]
    }
   ],
   "source": [
    "bcn.get_edges('data/results/barcelona_edges.geojson')\n"
   ]
  },
  {
   "cell_type": "code",
   "execution_count": null,
   "id": "7d356712",
   "metadata": {},
   "outputs": [],
   "source": []
  }
 ],
 "metadata": {
  "kernelspec": {
   "display_name": ".venv",
   "language": "python",
   "name": "python3"
  },
  "language_info": {
   "codemirror_mode": {
    "name": "ipython",
    "version": 3
   },
   "file_extension": ".py",
   "mimetype": "text/x-python",
   "name": "python",
   "nbconvert_exporter": "python",
   "pygments_lexer": "ipython3",
   "version": "3.13.5"
  }
 },
 "nbformat": 4,
 "nbformat_minor": 5
}
