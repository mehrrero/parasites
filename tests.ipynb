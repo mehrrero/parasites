{
 "cells": [
  {
   "cell_type": "code",
   "execution_count": null,
   "id": "a90ef27a",
   "metadata": {},
   "outputs": [],
   "source": [
    "import geopandas as gpd\n",
    "import pandas as pd\n",
    "from shapely.geometry import Point\n",
    "from utils.utils import count_houses, plot_ratio_map\n",
    "import osmnx as ox\n",
    "from catastro.atom import ATOM_Query\n",
    "import os\n",
    "import json"
   ]
  },
  {
   "cell_type": "code",
   "execution_count": 4,
   "id": "8e717ade",
   "metadata": {},
   "outputs": [],
   "source": [
    "rental_houses = [ 'Entire rental unit', \n",
    "            'Entire condo',\n",
    "            'Entire vacation home',\n",
    "            'Entire serviced apartment', \n",
    "            'Entire home', \n",
    "            'Entire loft',\n",
    "            'Entire townhouse', \n",
    "            'Entire guest suite',\n",
    "            'Entire villa',\n",
    "            'Tiny home', \n",
    "            'Entire guesthouse', \n",
    "            'Entire cabin', \n",
    "            'Entire place', \n",
    "            'Entire chalet', \n",
    "            'Casa particular', \n",
    "            'Dome', \n",
    "            'Yurt', \n",
    "            'Entire hostel'] "
   ]
  },
  {
   "cell_type": "code",
   "execution_count": 5,
   "id": "7098c9b4",
   "metadata": {},
   "outputs": [],
   "source": [
    "with open('data/houses_categories.json', 'w') as f:\n",
    "                json.dump(rental_houses, f)"
   ]
  },
  {
   "cell_type": "code",
   "execution_count": 6,
   "id": "c7d695e2",
   "metadata": {},
   "outputs": [],
   "source": [
    "with open('data/houses_categories.json', 'r') as f_read:\n",
    "    rental_houses_loaded = json.load(f_read)"
   ]
  },
  {
   "cell_type": "code",
   "execution_count": 7,
   "id": "ce691db7",
   "metadata": {},
   "outputs": [
    {
     "data": {
      "text/plain": [
       "['Entire rental unit',\n",
       " 'Entire condo',\n",
       " 'Entire vacation home',\n",
       " 'Entire serviced apartment',\n",
       " 'Entire home',\n",
       " 'Entire loft',\n",
       " 'Entire townhouse',\n",
       " 'Entire guest suite',\n",
       " 'Entire villa',\n",
       " 'Tiny home',\n",
       " 'Entire guesthouse',\n",
       " 'Entire cabin',\n",
       " 'Entire place',\n",
       " 'Entire chalet',\n",
       " 'Casa particular',\n",
       " 'Dome',\n",
       " 'Yurt',\n",
       " 'Entire hostel']"
      ]
     },
     "execution_count": 7,
     "metadata": {},
     "output_type": "execute_result"
    }
   ],
   "source": [
    "rental_houses_loaded"
   ]
  },
  {
   "cell_type": "code",
   "execution_count": 9,
   "id": "b486dfa8",
   "metadata": {},
   "outputs": [],
   "source": [
    "insideabnb_handles = ['Barcelona, Catalonia, Spain',\n",
    "                      'Euskadi, Euskadi, Spain',\n",
    "                      'Girona, Catalonia, Spain',\n",
    "                      'Madrid, Comunidad de Madrid, Spain',\n",
    "                      'Malaga, Andalucía, Spain',\n",
    "                      'Mallorca, Islas Baleares, Spain',\n",
    "                      'Menorca, Islas Baleares, Spain',\n",
    "                      'Sevilla, Andalucía, Spain',\n",
    "                      'Valencia, Valencia, Spain',\n",
    "                      ]\n",
    "\n",
    "cities = ['barcelona',\n",
    "          'euskadi',\n",
    "          'girona',\n",
    "          'madrid',\n",
    "          'malaga',               \n",
    "          'mallorca',\n",
    "          'menorca',\n",
    "          'sevilla',\n",
    "          'valencia'\n",
    "]\n",
    "\n",
    "province = ['Barcelona',\n",
    "            'Pais Vasco',\n",
    "            'Girona',\n",
    "            'Madrid',\n",
    "            'Malaga',\n",
    "            'Islas Baleares',\n",
    "            'Islas Baleares',\n",
    "            'Sevilla',\n",
    "            'Valencia'\n",
    "]"
   ]
  },
  {
   "cell_type": "code",
   "execution_count": 10,
   "id": "f684d5c2",
   "metadata": {},
   "outputs": [],
   "source": [
    "df = pd.DataFrame({\n",
    "    'city': cities,\n",
    "    'province': province,\n",
    "    'insideabnb_handle': insideabnb_handles\n",
    "})"
   ]
  },
  {
   "cell_type": "code",
   "execution_count": 12,
   "id": "a728b18a",
   "metadata": {},
   "outputs": [],
   "source": [
    "df.to_json('data/cities.json', orient='records', lines=True)"
   ]
  },
  {
   "cell_type": "code",
   "execution_count": null,
   "id": "23f31968",
   "metadata": {},
   "outputs": [],
   "source": []
  }
 ],
 "metadata": {
  "kernelspec": {
   "display_name": ".venv",
   "language": "python",
   "name": "python3"
  },
  "language_info": {
   "codemirror_mode": {
    "name": "ipython",
    "version": 3
   },
   "file_extension": ".py",
   "mimetype": "text/x-python",
   "name": "python",
   "nbconvert_exporter": "python",
   "pygments_lexer": "ipython3",
   "version": "3.13.5"
  }
 },
 "nbformat": 4,
 "nbformat_minor": 5
}
